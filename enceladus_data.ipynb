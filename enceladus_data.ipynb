{
 "cells": [
  {
   "cell_type": "code",
   "execution_count": 41,
   "id": "4f811a0a-a6b5-4535-9dcd-ce29f36f1179",
   "metadata": {},
   "outputs": [
    {
     "name": "stdout",
     "output_type": "stream",
     "text": [
      "FH2\n"
     ]
    },
    {
     "data": {
      "image/png": "[encoded data removed]",
      "text/plain": [
       "<Figure size 432x288 with 1 Axes>"
      ]
     },
     "metadata": {
      "needs_background": "light"
     },
     "output_type": "display_data"
    },
    {
     "name": "stdout",
     "output_type": "stream",
     "text": [
      "FP: 0.42398 FN: 0.57602\n",
      "FP: 0.34656 FN: 0.65344\n",
      "FCH4\n"
     ]
    },
    {
     "data": {
      "image/png": "[encoded data removed]",
      "text/plain": [
       "<Figure size 432x288 with 1 Axes>"
      ]
     },
     "metadata": {
      "needs_background": "light"
     },
     "output_type": "display_data"
    },
    {
     "name": "stdout",
     "output_type": "stream",
     "text": [
      "FP: 0.51718 FN: 0.38056\n",
      "FP: 0.44848 FN: 0.45418\n",
      "R1\n"
     ]
    },
    {
     "data": {
      "image/png": "[encoded data removed]",
      "text/plain": [
       "<Figure size 432x288 with 1 Axes>"
      ]
     },
     "metadata": {
      "needs_background": "light"
     },
     "output_type": "display_data"
    },
    {
     "name": "stdout",
     "output_type": "stream",
     "text": [
      "FP: 0.75794 FN: 0.24206\n",
      "FP: 0.6308 FN: 0.36944\n"
     ]
    }
   ],
   "source": [
    "import pandas as pd\n",
    "import matplotlib.pyplot as plt\n",
    "import numpy as np\n",
    "timec = 60*60*24*365\n",
    "\n",
    "outcomes = pd.read_csv('enceladus_data/core_batch_000raw.csv',\n",
    "                       delimiter=';',index_col=0)\n",
    "\n",
    "\n",
    "observables_abiotic = pd.DataFrame(data={'FH2':outcomes['H2_ab']*timec,\n",
    "                                         'FCH4':outcomes['CH4_ab']*timec,\n",
    "                                         'R1':outcomes['H2_ab']/outcomes['CH4_ab']})\n",
    "\n",
    "observables_biotic = pd.DataFrame(data={'FH2':outcomes['H2']*timec,\n",
    "                                        'FCH4':outcomes['CH4']*timec,\n",
    "                                        'R1':outcomes['H2']/outcomes['CH4']})\n",
    "\n",
    "logobservations = pd.read_csv('enceladus_data/logobservations.csv',\n",
    "                              delimiter=';',index_col=0)\n",
    "\n",
    "for c in observables_abiotic.columns:\n",
    "    print(c)\n",
    "    plt.hist(np.log10(observables_abiotic[c]),\n",
    "             #bins=np.arange(3,12,.1)\n",
    "            )\n",
    "    plt.hist(np.log10(observables_biotic[c]),\n",
    "             #bins=np.arange(3,12,.1),\n",
    "             alpha=.5)\n",
    "\n",
    "    lobab = np.log10(observables_abiotic[c])\n",
    "    lobb = np.log10(observables_biotic[c])\n",
    "    logo0 = logobservations[c].iloc[0]\n",
    "    logo1 = logobservations[c].iloc[1]\n",
    "    plt.plot([logo0,logo0],[0,7700])\n",
    "    plt.plot([logo1,logo1],[0,7700])\n",
    "    plt.show()\n",
    "    d = 2\n",
    "    print('FP:',(lobab>(logo0-d)).mean(),\n",
    "     'FN:',(lobb<(logo0-d)).mean())\n",
    "    print('FP:',(lobab>(logo1-d)).mean(),\n",
    "     'FN:',(lobb<(logo1-d)).mean())"
   ]
  },
  {
   "cell_type": "code",
   "execution_count": 37,
   "id": "b4969160-718f-4471-8858-10ca0f5f1174",
   "metadata": {},
   "outputs": [
    {
     "data": {
      "text/plain": [
       "([0.75794, 0.6308], [0.24206, 0.36944])"
      ]
     },
     "execution_count": 37,
     "metadata": {},
     "output_type": "execute_result"
    }
   ],
   "source": [
    "[(lobab>logo0-d).mean(),\n",
    " (lobab>logo1-d).mean()],\\\n",
    "[(lobb<(logo0-d)).mean(),\n",
    "(lobb<(logo1-d)).mean()]"
   ]
  },
  {
   "cell_type": "code",
   "execution_count": null,
   "id": "7b05a4ea-db12-4a17-8682-8a208007fd54",
   "metadata": {},
   "outputs": [],
   "source": []
  }
 ],
 "metadata": {
  "kernelspec": {
   "display_name": "Python 3 (ipykernel)",
   "language": "python",
   "name": "python3"
  },
  "language_info": {
   "codemirror_mode": {
    "name": "ipython",
    "version": 3
   },
   "file_extension": ".py",
   "mimetype": "text/x-python",
   "name": "python",
   "nbconvert_exporter": "python",
   "pygments_lexer": "ipython3",
   "version": "3.10.5"
  }
 },
 "nbformat": 4,
 "nbformat_minor": 5
}
