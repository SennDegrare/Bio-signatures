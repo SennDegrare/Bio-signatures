{
 "cells": [
  {
   "cell_type": "code",
   "execution_count": 1,
   "id": "4f811a0a-a6b5-4535-9dcd-ce29f36f1179",
   "metadata": {},
   "outputs": [
    {
     "name": "stdout",
     "output_type": "stream",
     "text": [
      "FH2\n"
     ]
    },
    {
     "data": {
      "image/png": "[encoded data removed]",
      "text/plain": [
       "<Figure size 432x288 with 1 Axes>"
      ]
     },
     "metadata": {
      "needs_background": "light"
     },
     "output_type": "display_data"
    },
    {
     "name": "stdout",
     "output_type": "stream",
     "text": [
      "FP: 0.13926 FN: 0.86824\n",
      "FP: 0.06166 FN: 0.95006\n",
      "FCH4\n"
     ]
    },
    {
     "data": {
      "image/png": "[encoded data removed]",
      "text/plain": [
       "<Figure size 432x288 with 1 Axes>"
      ]
     },
     "metadata": {
      "needs_background": "light"
     },
     "output_type": "display_data"
    },
    {
     "name": "stdout",
     "output_type": "stream",
     "text": [
      "FP: 0.2285 FN: 0.74526\n",
      "FP: 0.15964 FN: 0.83236\n",
      "R1\n"
     ]
    },
    {
     "data": {
      "image/png": "[encoded data removed]",
      "text/plain": [
       "<Figure size 432x288 with 1 Axes>"
      ]
     },
     "metadata": {
      "needs_background": "light"
     },
     "output_type": "display_data"
    },
    {
     "name": "stdout",
     "output_type": "stream",
     "text": [
      "FP: 0.47414 FN: 0.5278\n",
      "FP: 0.32238 FN: 0.71362\n"
     ]
    }
   ],
   "source": [
    "import pandas as pd\n",
    "import matplotlib.pyplot as plt\n",
    "import numpy as np\n",
    "timec = 60*60*24*365\n",
    "\n",
    "outcomes = pd.read_csv('enceladus_data/core_batch_000raw.csv',delimiter=';',index_col=0)\n",
    "\n",
    "\n",
    "observables_abiotic = pd.DataFrame(data={'FH2':outcomes['H2_ab']*timec,\n",
    "                                         'FCH4':outcomes['CH4_ab']*timec,\n",
    "                                         'R1':outcomes['H2_ab']/outcomes['CH4_ab']})\n",
    "\n",
    "observables_biotic = pd.DataFrame(data={'FH2':outcomes['H2']*timec,\n",
    "                                        'FCH4':outcomes['CH4']*timec,\n",
    "                                        'R1':outcomes['H2']/outcomes['CH4']})\n",
    "\n",
    "logobservations = pd.read_csv('enceladus_data/logobservations.csv',delimiter=';',index_col=0)\n",
    "\n",
    "for c in observables_abiotic.columns:\n",
    "    print(c)\n",
    "    plt.hist(np.log10(observables_abiotic[c]),bins=np.arange(3,12,.1))\n",
    "    plt.hist(np.log10(observables_biotic[c]),bins=np.arange(3,12,.1),alpha=.5)\n",
    "    plt.show()\n",
    "    print('FP:',(np.log10(observables_abiotic[c])>logobservations[c].iloc[0]).mean(),\n",
    "     'FN:',(np.log10(observables_biotic[c])<logobservations[c].iloc[0]).mean())\n",
    "    print('FP:',(np.log10(observables_abiotic[c])>logobservations[c].iloc[1]).mean(),\n",
    "     'FN:',(np.log10(observables_biotic[c])<logobservations[c].iloc[1]).mean())"
   ]
  },
  {
   "cell_type": "code",
   "execution_count": null,
   "id": "f604729e-fc80-4098-8953-910f557f0025",
   "metadata": {},
   "outputs": [],
   "source": []
  }
 ],
 "metadata": {
  "kernelspec": {
   "display_name": "Python 3 (ipykernel)",
   "language": "python",
   "name": "python3"
  },
  "language_info": {
   "codemirror_mode": {
    "name": "ipython",
    "version": 3
   },
   "file_extension": ".py",
   "mimetype": "text/x-python",
   "name": "python",
   "nbconvert_exporter": "python",
   "pygments_lexer": "ipython3",
   "version": "3.10.5"
  }
 },
 "nbformat": 4,
 "nbformat_minor": 5
}
